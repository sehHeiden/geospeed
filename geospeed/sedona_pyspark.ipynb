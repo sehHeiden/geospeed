{
 "cells": [
  {
   "cell_type": "code",
   "execution_count": 1,
   "id": "24b7e94c-7d42-41ea-a86b-9bcc476e8128",
   "metadata": {
    "tags": []
   },
   "outputs": [],
   "source": [
    "import time\n",
    "\n",
    "from sedona.spark import SedonaContext\n",
    "from sedona.sql import ST_GeoHash, ST_MakeValid"
   ]
  },
  {
   "cell_type": "code",
   "execution_count": 2,
   "id": "6589c654-e2cf-400d-b9f9-08b6e8819b2e",
   "metadata": {
    "tags": []
   },
   "outputs": [
    {
     "name": "stdout",
     "output_type": "stream",
     "text": [
      "Python version: 3.10.12 (main, Sep 11 2024, 15:47:36) [GCC 11.4.0]\n",
      "Python path: /usr/bin/python3\n",
      "Working directory: /app/geospeed\n",
      "JAVA_HOME: /usr/lib/jvm/java-19-openjdk-amd64\n",
      "SPARK_HOME: /opt/spark\n",
      "PYTHONPATH: /opt/spark/python\n"
     ]
    }
   ],
   "source": [
    "import os\n",
    "import sys\n",
    "\n",
    "os.environ[\"JAVA_HOME\"] = \"/usr/lib/jvm/java-19-openjdk-amd64\"\n",
    "\n",
    "print(\"Python version:\", sys.version)\n",
    "print(\"Python path:\", sys.executable)\n",
    "print(\"Working directory:\", os.getcwd())\n",
    "print(\"JAVA_HOME:\", os.environ.get(\"JAVA_HOME\"))\n",
    "print(\"SPARK_HOME:\", os.environ.get(\"SPARK_HOME\"))\n",
    "print(\"PYTHONPATH:\", os.environ.get(\"PYTHONPATH\"))"
   ]
  },
  {
   "cell_type": "code",
   "execution_count": 3,
   "id": "5869d5fb-0cc1-4961-a7a6-300b454c3d3a",
   "metadata": {
    "tags": []
   },
   "outputs": [
    {
     "name": "stdout",
     "output_type": "stream",
     "text": [
      ":: loading settings :: url = jar:file:/opt/spark/jars/ivy-2.5.1.jar!/org/apache/ivy/core/settings/ivysettings.xml\n"
     ]
    },
    {
     "name": "stderr",
     "output_type": "stream",
     "text": [
      "Ivy Default Cache set to: /root/.ivy2/cache\n",
      "The jars for the packages stored in: /root/.ivy2/jars\n",
      "org.apache.sedona#sedona-spark-shaded-3.0_2.12 added as a dependency\n",
      "org.datasyslab#geotools-wrapper added as a dependency\n",
      ":: resolving dependencies :: org.apache.spark#spark-submit-parent-176f7a64-bb53-4e13-b5a8-9f6939ee6261;1.0\n",
      "\tconfs: [default]\n",
      "\tfound org.apache.sedona#sedona-spark-shaded-3.0_2.12;1.6.1 in central\n",
      "\tfound org.datasyslab#geotools-wrapper;1.6.1-28.2 in central\n",
      ":: resolution report :: resolve 123ms :: artifacts dl 4ms\n",
      "\t:: modules in use:\n",
      "\torg.apache.sedona#sedona-spark-shaded-3.0_2.12;1.6.1 from central in [default]\n",
      "\torg.datasyslab#geotools-wrapper;1.6.1-28.2 from central in [default]\n",
      "\t---------------------------------------------------------------------\n",
      "\t|                  |            modules            ||   artifacts   |\n",
      "\t|       conf       | number| search|dwnlded|evicted|| number|dwnlded|\n",
      "\t---------------------------------------------------------------------\n",
      "\t|      default     |   2   |   0   |   0   |   0   ||   2   |   0   |\n",
      "\t---------------------------------------------------------------------\n",
      ":: retrieving :: org.apache.spark#spark-submit-parent-176f7a64-bb53-4e13-b5a8-9f6939ee6261\n",
      "\tconfs: [default]\n",
      "\t0 artifacts copied, 2 already retrieved (0kB/5ms)\n",
      "24/10/10 21:13:52 WARN NativeCodeLoader: Unable to load native-hadoop library for your platform... using builtin-java classes where applicable\n",
      "Setting default log level to \"WARN\".\n",
      "To adjust logging level use sc.setLogLevel(newLevel). For SparkR, use setLogLevel(newLevel).\n"
     ]
    }
   ],
   "source": [
    "start_time = time.time()\n",
    "\n",
    "config = (\n",
    "    SedonaContext.builder()\n",
    "    .config(\n",
    "        \"spark.jars.packages\",\n",
    "        \"org.apache.sedona:sedona-spark-shaded-3.0_2.12:1.6.1,\" \"org.datasyslab:geotools-wrapper:1.6.1-28.2\",\n",
    "    )\n",
    "    .getOrCreate()\n",
    ")\n",
    "\n",
    "sedona = SedonaContext.create(config)"
   ]
  },
  {
   "cell_type": "code",
   "execution_count": 4,
   "id": "f624ed41-5695-4189-948a-dcb58662b232",
   "metadata": {
    "tags": []
   },
   "outputs": [],
   "source": [
    "building_columns = [\"oid\", \"gebnutzbez\", \"gfkzshh\", \"name\", \"anzahlgs\", \"gmdschl\", \"lagebeztxt\", \"funktion\"]\n",
    "usage_columns = [\"oid\", \"nutzart\", \"bez\", \"flstkennz\"]\n",
    "\n",
    "build_gdf = (\n",
    "    sedona.read.format(\"shapefile\")\n",
    "    .option(\"recursiveFileLookup\", \"true\")\n",
    "    .load(\"../ALKIS/*/GebauedeBauwerk.shp\")\n",
    "    .dropDuplicates([\"oid\"])\n",
    ")\n",
    "build_gdf = build_gdf.select(\n",
    "    ST_MakeValid(build_gdf[\"geometry\"]).alias(\"geometry\"), *[build_gdf[col] for col in building_columns]\n",
    ")\n",
    "build_gdf.createOrReplaceTempView(\"buildings\")\n",
    "use_gdf = (\n",
    "    sedona.read.format(\"shapefile\")\n",
    "    .option(\"recursiveFileLookup\", \"true\")\n",
    "    .load(\"../ALKIS/*/NutzungFlurstueck.shp\")\n",
    "    .dropDuplicates([\"oid\"])\n",
    ")\n",
    "use_gdf = use_gdf.select(ST_MakeValid(use_gdf[\"geometry\"]).alias(\"geometry\"), *[use_gdf[col] for col in usage_columns])\n",
    "use_gdf.createOrReplaceTempView(\"usage\")"
   ]
  },
  {
   "cell_type": "code",
   "execution_count": 5,
   "id": "bc83fe0e-51cc-47af-a490-c361e5b963ea",
   "metadata": {
    "tags": []
   },
   "outputs": [],
   "source": [
    "result_gdf = sedona.sql(\"\"\"SELECT ST_Intersection(b.geometry, u.geometry) AS geometry, b.oid AS building_oid, b.gebnutzbez, b.gfkzshh, b.name, b.anzahlgs, b.gmdschl, b.lagebeztxt, b.funktion, u.oid AS flur_oid, u.nutzart, u.bez, u.flstkennz\n",
    "                       FROM buildings b, usage u\n",
    "                       WHERE ST_Intersects(b.geometry, u.geometry)\"\"\")"
   ]
  },
  {
   "cell_type": "code",
   "execution_count": 6,
   "id": "098113b8-9ae4-4804-8068-6801e44dd309",
   "metadata": {},
   "outputs": [
    {
     "name": "stderr",
     "output_type": "stream",
     "text": [
      "24/10/10 21:14:40 WARN JoinQuery: UseIndex is true, but no index exists. Will build index on the fly.\n",
      "                                                                                \r"
     ]
    }
   ],
   "source": [
    "proj = \"\"\"{\"$schema\": \"https://proj.org/schemas/v0.7/projjson.schema.json\",\"type\": \"ProjectedCRS\",\"name\": \"ETRS89 / UTM zone 33N\",\"base_crs\": {\"name\": \"ETRS89\",\"datum_ensemble\": {\"name\": \"European Terrestrial Reference System 1989 ensemble\",\"members\": [{\"name\": \"European Terrestrial Reference Frame 1989\"},{\"name\": \"European Terrestrial Reference Frame 1990\"},{\"name\": \"European Terrestrial Reference Frame 1991\"},{\"name\": \"European Terrestrial Reference Frame 1992\"},{\"name\": \"European Terrestrial Reference Frame 1993\"},{\"name\": \"European Terrestrial Reference Frame 1994\"},{\"name\": \"European Terrestrial Reference Frame 1996\"},{\"name\": \"European Terrestrial Reference Frame 1997\"},{\"name\": \"European Terrestrial Reference Frame 2000\"},{\"name\": \"European Terrestrial Reference Frame 2005\"},{\"name\": \"European Terrestrial Reference Frame 2014\"}],\"ellipsoid\": {\"name\": \"GRS 1980\",\"semi_major_axis\": 6378137,\"inverse_flattening\": 298.257222101},\"accuracy\": \"0.1\"},\"coordinate_system\": {\"subtype\": \"ellipsoidal\",\"axis\": [{\"name\": \"Geodetic latitude\",\"abbreviation\": \"Lat\",\"direction\": \"north\",\"unit\": \"degree\"},{\"name\": \"Geodetic longitude\",\"abbreviation\": \"Lon\",\"direction\": \"east\",\"unit\": \"degree\"}]},\"id\": {\"authority\": \"EPSG\",\"code\": 4258}},\"conversion\": {\"name\": \"UTM zone 33N\",\"method\": {\"name\": \"Transverse Mercator\",\"id\": {\"authority\": \"EPSG\",\"code\": 9807}},\"parameters\": [{\"name\": \"Latitude of natural origin\",\"value\": 0,\"unit\": \"degree\",\"id\": {\"authority\": \"EPSG\",\"code\": 8801}},{\"name\": \"Longitude of natural origin\",\"value\": 15,\"unit\": \"degree\",\"id\": {\"authority\": \"EPSG\",\"code\": 8802}},{\"name\": \"Scale factor at natural origin\",\"value\": 0.9996,\"unit\": \"unity\",\"id\": {\"authority\": \"EPSG\",\"code\": 8805}},{\"name\": \"False easting\",\"value\": 500000,\"unit\": \"metre\",\"id\": {\"authority\": \"EPSG\",\"code\": 8806}},{\"name\": \"False northing\",\"value\": 0,\"unit\": \"metre\",\"id\": {\"authority\": \"EPSG\",\"code\": 8807}}]},\"coordinate_system\": {\"subtype\": \"Cartesian\",\"axis\": [{\"name\": \"Easting\",\"abbreviation\": \"E\",\"direction\": \"east\",\"unit\": \"metre\"},{\"name\": \"Northing\",\"abbreviation\": \"N\",\"direction\": \"north\",\"unit\": \"metre\"}]},\"scope\": \"Engineering survey, topographic mapping.\",\"area\": \"Europe between 12°E and 18°E: Austria; Denmark - offshore and offshore; Germany - onshore and offshore; Norway including Svalbard - onshore and offshore.\",\"bbox\": {\"south_latitude\": 46.4,\"west_longitude\": 12,\"north_latitude\": 84.42,\"east_longitude\": 18.01},\"id\": {\"authority\": \"EPSG\",\"code\": 25833}}\"\"\"\n",
    "columns = [\n",
    "    \"building_oid\",\n",
    "    \"gebnutzbez\",\n",
    "    \"gfkzshh\",\n",
    "    \"name\",\n",
    "    \"anzahlgs\",\n",
    "    \"gmdschl\",\n",
    "    \"lagebeztxt\",\n",
    "    \"funktion\",\n",
    "    \"flur_oid\",\n",
    "    \"nutzart\",\n",
    "    \"bez\",\n",
    "    \"flstkennz\",\n",
    "]\n",
    "\n",
    "\n",
    "(\n",
    "    result_gdf.select(\n",
    "        result_gdf[\"geometry\"],\n",
    "        ST_GeoHash(result_gdf[\"geometry\"], 5).alias(\"geom_hash\"),\n",
    "        *[result_gdf[col] for col in columns],\n",
    "    )\n",
    "    .orderBy(\"geom_hash\")\n",
    "    .coalesce(1)\n",
    "    .write.format(\"geoparquet\")\n",
    "    .mode(\"overwrite\")\n",
    "    .option(\"geoparquet.version\", \"1.0.0\")\n",
    "    .option(\"geoparquet.crs\", proj)\n",
    "    .option(\"parquet.compression\", \"zstd\")\n",
    "    .save(\"sedona_data.parquet\")\n",
    ")"
   ]
  },
  {
   "cell_type": "code",
   "execution_count": 7,
   "id": "264bcff8-77df-4e88-bde9-42ae006d2448",
   "metadata": {
    "tags": []
   },
   "outputs": [
    {
     "name": "stdout",
     "output_type": "stream",
     "text": [
      "Excecution took: 163.84152150154114 sec.\n"
     ]
    }
   ],
   "source": [
    "print(f\"Excecution took: {time.time() - start_time} sec.\")"
   ]
  },
  {
   "cell_type": "code",
   "execution_count": null,
   "id": "b962c5b2-e0f6-48d8-b155-f9c8836904db",
   "metadata": {},
   "outputs": [],
   "source": []
  }
 ],
 "metadata": {
  "kernelspec": {
   "display_name": "Python 3 (ipykernel)",
   "language": "python",
   "name": "python3"
  },
  "language_info": {
   "codemirror_mode": {
    "name": "ipython",
    "version": 3
   },
   "file_extension": ".py",
   "mimetype": "text/x-python",
   "name": "python",
   "nbconvert_exporter": "python",
   "pygments_lexer": "ipython3",
   "version": "3.10.12"
  }
 },
 "nbformat": 4,
 "nbformat_minor": 5
}
